{
 "cells": [
  {
   "cell_type": "code",
   "execution_count": 1,
   "id": "b4914153-d39d-4ff4-8551-5747392d97fc",
   "metadata": {},
   "outputs": [
    {
     "name": "stdout",
     "output_type": "stream",
     "text": [
      "Requirement already satisfied: opencv-contrib-python in /Users/rodolfo.lobo/opt/anaconda3/lib/python3.8/site-packages (4.5.4.58)\n",
      "Requirement already satisfied: numpy>=1.17.3 in /Users/rodolfo.lobo/opt/anaconda3/lib/python3.8/site-packages (from opencv-contrib-python) (1.19.5)\n"
     ]
    }
   ],
   "source": [
    "!pip install opencv-contrib-python\n",
    "import cv2\n",
    "import matplotlib.pyplot as plt\n",
    "import numpy as np"
   ]
  },
  {
   "cell_type": "markdown",
   "id": "c24f71d3-525d-484c-a32e-979ad7413f81",
   "metadata": {},
   "source": [
    "Doesn't known when tracker failed: boosting tracker.\n",
    "\n",
    "MIL tracker: similar to bosting. Failure to track an object may not be reported back. Can't recover from full obstruction. \n",
    "\n",
    "TDL tracker : can provide false positives. \n",
    "\n",
    "MedianFlow Tracker: Fails under large motion. "
   ]
  },
  {
   "cell_type": "markdown",
   "id": "e4d7f7fc-a90b-4942-8126-5cd2f5a61c80",
   "metadata": {},
   "source": [
    "### Cómo no está los archivos de esta sección intentaré escribir el código yo!: Este código rompe el Kernel de Jupyter Lab!, corre, marco el rectangulo sobre mi rostro y se rompe."
   ]
  },
  {
   "cell_type": "code",
   "execution_count": 2,
   "id": "bfd2fea6-aae7-4a5f-8b6a-00d5471d733c",
   "metadata": {},
   "outputs": [],
   "source": [
    "def ask_for_tracker():\n",
    "    print(\"Enter 0 for BOOSTING\")\n",
    "    print(\"Enter 1 for MIL\")\n",
    "    print(\"Enter 2 for KCF\")\n",
    "    print(\"Enter 3 for TDL\")\n",
    "    print(\"Enter 4 for MEDIANFLOW\")\n",
    "    choice = input(\"Please select your tracker\")\n",
    "    \n",
    "    if choice == '0':\n",
    "        tracker = cv2.TrackerBoosting_create\n",
    "    if choice == '1':\n",
    "        tracker = cv2.TrackerMIL_create()\n",
    "    if choice == '2':\n",
    "        tracker = cv2.TrackerKCF_create()\n",
    "    if choice == '3':\n",
    "        tracker = cv2.TrackerTLD_create()\n",
    "    if choice == '4':\n",
    "        tracker = cv2.legacy_TrackerMedianFlow()        \n",
    "    return tracker"
   ]
  },
  {
   "cell_type": "code",
   "execution_count": 3,
   "id": "f2ca0a41-a123-4b8c-b11c-6fd931fae338",
   "metadata": {},
   "outputs": [
    {
     "name": "stdout",
     "output_type": "stream",
     "text": [
      "Enter 0 for BOOSTING\n",
      "Enter 1 for MIL\n",
      "Enter 2 for KCF\n",
      "Enter 3 for TDL\n",
      "Enter 4 for MEDIANFLOW\n"
     ]
    },
    {
     "name": "stdin",
     "output_type": "stream",
     "text": [
      "Please select your tracker 4\n"
     ]
    }
   ],
   "source": [
    "tracker = ask_for_tracker()"
   ]
  },
  {
   "cell_type": "code",
   "execution_count": 4,
   "id": "9380f445-5a10-459d-a609-28939bbccd5b",
   "metadata": {},
   "outputs": [],
   "source": [
    "tracker_name = str(tracker).split()[0][1:]"
   ]
  },
  {
   "cell_type": "code",
   "execution_count": 5,
   "id": "71729854-a117-44f3-ac93-953a7c1ff6e7",
   "metadata": {},
   "outputs": [
    {
     "data": {
      "text/plain": [
       "'legacy_TrackerMedianFlow'"
      ]
     },
     "execution_count": 5,
     "metadata": {},
     "output_type": "execute_result"
    }
   ],
   "source": [
    "tracker_name"
   ]
  },
  {
   "cell_type": "code",
   "execution_count": null,
   "id": "70dbf988-60c8-4389-8b97-dbc70df3c3a8",
   "metadata": {},
   "outputs": [],
   "source": [
    "cap = cv2.VideoCapture(0)\n",
    "\n",
    "ret,frame = cap.read()\n",
    "\n",
    "roi = cv2.selectROI(frame,False)\n",
    "\n",
    "ret = tracker.init(frame,roi)\n",
    "\n",
    "while True:\n",
    "    \n",
    "    ret, frame = cap.read()\n",
    "    \n",
    "    success, roi = tracker.update(frame)\n",
    "    \n",
    "    (x,y,w,h) = tuple(map(int,roi))\n",
    "    \n",
    "    if success:\n",
    "        \n",
    "        p1 = (x,y)\n",
    "        p2 = (x+w,y+h)\n",
    "        cv2.rectangle(frame,p1,p2,(0,255,0),3)\n",
    "    else:\n",
    "        cv2.putText(frame,'Failure to Detect Tracking',(100,200),cv2.FRONT_HERSHEY_SIMPLEX,1,(0,255,0),3)\n",
    "        \n",
    "        \n",
    "    cv2.putText(frame, tracker_name,cv2.FRONT_HERSHEY_SIMPLEX,1,(0,255,0),3)\n",
    "    \n",
    "    cv2.imshow(tracker_name,frame)\n",
    "    \n",
    "    k = cv2.waitKey(1) & 0xFF\n",
    "    \n",
    "    if k == 27:\n",
    "        break\n",
    "        \n",
    "cap.release()\n",
    "cv2.destroyAllWindows()"
   ]
  }
 ],
 "metadata": {
  "kernelspec": {
   "display_name": "Python 3",
   "language": "python",
   "name": "python3"
  },
  "language_info": {
   "codemirror_mode": {
    "name": "ipython",
    "version": 3
   },
   "file_extension": ".py",
   "mimetype": "text/x-python",
   "name": "python",
   "nbconvert_exporter": "python",
   "pygments_lexer": "ipython3",
   "version": "3.8.8"
  }
 },
 "nbformat": 4,
 "nbformat_minor": 5
}
