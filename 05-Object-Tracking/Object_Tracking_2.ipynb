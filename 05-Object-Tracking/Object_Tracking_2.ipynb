{
 "cells": [
  {
   "cell_type": "code",
   "execution_count": null,
   "id": "b355fae8-36b2-4570-8ed6-2a7c6b91adb7",
   "metadata": {},
   "outputs": [],
   "source": [
    "import cv2\n",
    "import matplotlib.pyplot as plt\n",
    "import numpy as np"
   ]
  },
  {
   "cell_type": "code",
   "execution_count": null,
   "id": "2abc7744-a3cc-4d0b-a1da-a08ce822f1b9",
   "metadata": {},
   "outputs": [],
   "source": [
    "cap = cv2.VideoCapture(0)\n",
    "\n",
    "# Parametros de inicializacion del algoritmo\n",
    "# previous frame\n",
    "ret, frame1 = cap.read()\n",
    "\n",
    "prvsImg = cv2.cvtColor(frame1,cv2.COLOR_BGR2GRAY)\n",
    "\n",
    "hsv_mask = np.zeros_like(frame1)\n",
    "\n",
    "# satura la imagen mascara\n",
    "hsv_mask[:,:,1] = 255\n",
    "\n",
    "while True:\n",
    "    \n",
    "    ret,frame2 = cap.read()\n",
    "    \n",
    "    nextImg = cv2.cvtColor(frame2,cv2.COLOR_BGR2GRAY)\n",
    "    \n",
    "    #la magia (los parametros estan explicados en el material de curso!)\n",
    "    # flow object contiene vectores (en 2D) sobre el flujo de movimiento!\n",
    "    \n",
    "    flow = cv2.calcOpticalFlowFarneback(prvsImg,nextImg,None, 0.5,3,15,3,5,1.2,0)\n",
    "    \n",
    "    # converisonde flow a coordenadas polares: para cada pixel toma magniut(0) y lo mismo para angulo (1)\n",
    "    \n",
    "    mag, ang = cv2.cartToPolar(flow[:,:,0],flow[:,:,1],angleInDegrees = True)\n",
    "    \n",
    "    # deja todo entre 0 y 180\n",
    "    hsv_mask[:,:,0] = ang/2\n",
    "    #normaliza la magnitude\n",
    "    hsv_mask[:,:,2] = cv2.normalize(mag,None,0,255,cv2.NORM_MINMAX)\n",
    "    \n",
    "    bgr = cv2.cvtColor(hsv_mask,cv2.COLOR_HSV2BGR)\n",
    "    \n",
    "    cv2.imshow('frame',bgr)\n",
    "    \n",
    "    k = cv2.waitKey(10) & 0xFF\n",
    "    if k==27:\n",
    "        break\n",
    "        \n",
    "    prvsImg = nextImg\n",
    "    \n",
    "cap.release()\n",
    "cv2.destroyAllWindows()\n",
    "    \n",
    "    # angulo: variacion de color\n",
    "    # magnitud: mismo color"
   ]
  },
  {
   "cell_type": "code",
   "execution_count": null,
   "id": "e5b44726-7173-4ca5-9b41-30d5ca23503e",
   "metadata": {},
   "outputs": [],
   "source": []
  },
  {
   "cell_type": "code",
   "execution_count": null,
   "id": "a328a8ed-6731-4dc9-86cc-d21dfbe352c4",
   "metadata": {},
   "outputs": [],
   "source": []
  },
  {
   "cell_type": "code",
   "execution_count": null,
   "id": "28142c04-15d4-4358-bf40-5147f3a41178",
   "metadata": {},
   "outputs": [],
   "source": []
  }
 ],
 "metadata": {
  "kernelspec": {
   "display_name": "Python 3",
   "language": "python",
   "name": "python3"
  },
  "language_info": {
   "codemirror_mode": {
    "name": "ipython",
    "version": 3
   },
   "file_extension": ".py",
   "mimetype": "text/x-python",
   "name": "python",
   "nbconvert_exporter": "python",
   "pygments_lexer": "ipython3",
   "version": "3.8.8"
  }
 },
 "nbformat": 4,
 "nbformat_minor": 5
}
