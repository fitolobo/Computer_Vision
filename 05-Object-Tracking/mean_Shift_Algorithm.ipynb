{
 "cells": [
  {
   "cell_type": "code",
   "execution_count": 1,
   "id": "5bea222b-2eae-41a0-9cb2-4707324a915b",
   "metadata": {},
   "outputs": [],
   "source": [
    "import cv2\n",
    "import matplotlib.pyplot as plt\n",
    "import numpy as np"
   ]
  },
  {
   "cell_type": "markdown",
   "id": "7f4b9c33-bc4b-4878-b106-d78410a200c8",
   "metadata": {},
   "source": [
    "# Face Tracking"
   ]
  },
  {
   "cell_type": "code",
   "execution_count": 2,
   "id": "a754c2ca-f704-4a33-8bc7-7e463b5f6c11",
   "metadata": {},
   "outputs": [
    {
     "name": "stdout",
     "output_type": "stream",
     "text": [
      "(720, 1280, 3)\n",
      "[[100 200 200 300]]\n"
     ]
    },
    {
     "ename": "AttributeError",
     "evalue": "'numpy.ndarray' object has no attribute 'meanShift'",
     "output_type": "error",
     "traceback": [
      "\u001b[0;31m---------------------------------------------------------------------------\u001b[0m",
      "\u001b[0;31mAttributeError\u001b[0m                            Traceback (most recent call last)",
      "\u001b[0;32m<ipython-input-2-5079e7494f20>\u001b[0m in \u001b[0;36m<module>\u001b[0;34m\u001b[0m\n\u001b[1;32m     62\u001b[0m \u001b[0;34m\u001b[0m\u001b[0m\n\u001b[1;32m     63\u001b[0m         \u001b[0;31m# version anterior\u001b[0m\u001b[0;34m\u001b[0m\u001b[0;34m\u001b[0m\u001b[0;34m\u001b[0m\u001b[0m\n\u001b[0;32m---> 64\u001b[0;31m         \u001b[0mret\u001b[0m\u001b[0;34m,\u001b[0m \u001b[0mtrack_window\u001b[0m \u001b[0;34m=\u001b[0m \u001b[0mcv2\u001b[0m\u001b[0;34m.\u001b[0m\u001b[0mmeanShift\u001b[0m\u001b[0;34m(\u001b[0m\u001b[0mdst\u001b[0m\u001b[0;34m,\u001b[0m\u001b[0mtrack_window\u001b[0m\u001b[0;34m,\u001b[0m\u001b[0mterm_crit\u001b[0m\u001b[0;34m)\u001b[0m\u001b[0;34m\u001b[0m\u001b[0;34m\u001b[0m\u001b[0m\n\u001b[0m\u001b[1;32m     65\u001b[0m         \u001b[0mx\u001b[0m\u001b[0;34m,\u001b[0m\u001b[0my\u001b[0m\u001b[0;34m,\u001b[0m\u001b[0mw\u001b[0m\u001b[0;34m,\u001b[0m\u001b[0mh\u001b[0m \u001b[0;34m=\u001b[0m \u001b[0mtrack_window\u001b[0m\u001b[0;34m\u001b[0m\u001b[0;34m\u001b[0m\u001b[0m\n\u001b[1;32m     66\u001b[0m \u001b[0;34m\u001b[0m\u001b[0m\n",
      "\u001b[0;31mAttributeError\u001b[0m: 'numpy.ndarray' object has no attribute 'meanShift'"
     ]
    }
   ],
   "source": [
    "MAIN_PATH = '../Computer-Vision-with-Python/DATA'\n",
    "\n",
    "cap = cv2.VideoCapture(0)\n",
    "\n",
    "ret, frame = cap.read()\n",
    "\n",
    "# modelo entrenado para reconocer rostros\n",
    "face_cascade = cv2.CascadeClassifier(MAIN_PATH+'/haarcascades/haarcascade_frontalface_default.xml')  \n",
    "\n",
    "### Inicializa el algoritmo\n",
    "\n",
    "print(frame.shape)\n",
    "\n",
    "# Entrega el rectangulo de todas las secciones donde encontró un rostro\n",
    "# para este experimento solo consideraremos un rostro, el primero de la lista!\n",
    "\n",
    "# Esta fallando!\n",
    "#face_rects = face_cascade.detectMultiScale(frame)   \n",
    "face_rects = np.asarray([[100,200,200,300]])\n",
    "print(face_rects)\n",
    "#print(len(face_rects))\n",
    "\n",
    "# aqui elijo la primera cara\n",
    "(face_x,face_y,w,h) = tuple(face_rects[0])\n",
    "\n",
    "# coordenadas del rectangulo encerrando el rostro\n",
    "track_window = (face_x,face_y,w,h) \n",
    "\n",
    "# region de interes\n",
    "roi = frame[face_y:face_y+h, face_x:face_x+w]\n",
    "\n",
    "# from RGB to HSV\n",
    "hsv_roi = cv2.cvtColor(roi,cv2.COLOR_BGR2HSV)\n",
    "\n",
    "# Ahora calcula el histograma de la imagen: entrega un canal, None, (En videos anteriores)\n",
    "roi_hist = cv2.calcHist([hsv_roi],[0],None,[180],[0,180])\n",
    "\n",
    "# Normaliza el histograma en relacion a 0 y 255, usando el metodo minmax\n",
    "cv2.normalize(roi_hist,roi_hist,0,255,cv2.NORM_MINMAX)\n",
    "\n",
    "#criterio basico de parada del algoritmo?\n",
    "term_crit = (cv2.TERM_CRITERIA_EPS | cv2.TERM_CRITERIA_COUNT,10,1)   \n",
    "\n",
    "while True:\n",
    "    \n",
    "    ret, frame = cap.read()\n",
    "    \n",
    "    if ret == True:\n",
    "        \n",
    "        hsv = cv2.cvtColor(frame,cv2.COLOR_BGR2HSV)\n",
    "        \n",
    "        # calcula el metodo\n",
    "        dst = cv2 = cv2.calcBackProject([hsv],[0],roi_hist,[0,180],1)\n",
    "        \n",
    "        ########################################################################\n",
    "        # version de tamaño dinamico\n",
    "        # refresca la variable track_window\n",
    "        #ret, track_window = cv2.CamShift(dst,track_window,term_crit)\n",
    "        \n",
    "        #pts = cv2.boxPoints(ret)\n",
    "        #pts = np.int0(pts)\n",
    "        #im2 = cv2.polylines(frame,[pts],True,(0,0,255),5)\n",
    "        \n",
    "        # version anterior\n",
    "        ret, track_window = cv2.meanShift(dst,track_window,term_crit)\n",
    "        x,y,w,h = track_window\n",
    "        \n",
    "        # dadas las coordenadas del rectangulo que determina un objeto genera el rectangulo sobre el frame\n",
    "        img2 = cv2.rectangle(frame, (x,y),(x+w,y+h),(0,0,255),5)\n",
    "        ########################################################################\n",
    "        \n",
    "        # muestra el resultado\n",
    "        cv2.imshow('img',img2)\n",
    "        \n",
    "        k = cv2.waitKey(1) & 0xFF\n",
    "        if k == 27:\n",
    "            break\n",
    "    else:\n",
    "        break\n",
    "\n",
    "cv2.destroyAllWindows()\n",
    "cap.release()"
   ]
  },
  {
   "cell_type": "code",
   "execution_count": null,
   "id": "be91a51d-5832-48ec-8f93-b48d716844f9",
   "metadata": {},
   "outputs": [],
   "source": []
  }
 ],
 "metadata": {
  "kernelspec": {
   "display_name": "Python 3",
   "language": "python",
   "name": "python3"
  },
  "language_info": {
   "codemirror_mode": {
    "name": "ipython",
    "version": 3
   },
   "file_extension": ".py",
   "mimetype": "text/x-python",
   "name": "python",
   "nbconvert_exporter": "python",
   "pygments_lexer": "ipython3",
   "version": "3.8.8"
  }
 },
 "nbformat": 4,
 "nbformat_minor": 5
}
