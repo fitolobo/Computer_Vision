{
 "cells": [
  {
   "cell_type": "code",
   "execution_count": 1,
   "id": "80e65683-96d3-4aab-a8c1-1e6003eb9899",
   "metadata": {},
   "outputs": [
    {
     "name": "stdout",
     "output_type": "stream",
     "text": [
      "Collecting flair\n",
      "  Downloading flair-0.10-py3-none-any.whl (322 kB)\n",
      "\u001b[K     |████████████████████████████████| 322 kB 2.1 MB/s eta 0:00:01\n",
      "\u001b[?25hCollecting more-itertools~=8.8.0\n",
      "  Downloading more_itertools-8.8.0-py3-none-any.whl (48 kB)\n",
      "\u001b[K     |████████████████████████████████| 48 kB 4.4 MB/s  eta 0:00:01\n",
      "\u001b[?25hCollecting mpld3==0.3\n",
      "  Downloading mpld3-0.3.tar.gz (788 kB)\n",
      "\u001b[K     |████████████████████████████████| 788 kB 47.3 MB/s eta 0:00:01\n",
      "\u001b[?25hCollecting sentencepiece==0.1.95\n",
      "  Using cached sentencepiece-0.1.95-cp38-cp38-macosx_10_6_x86_64.whl (1.1 MB)\n",
      "Collecting konoha<5.0.0,>=4.0.0\n",
      "  Downloading konoha-4.6.5-py3-none-any.whl (20 kB)\n",
      "Requirement already satisfied: tqdm>=4.26.0 in /Users/rodolfo.lobo/opt/anaconda3/lib/python3.8/site-packages (from flair) (4.59.0)\n",
      "Requirement already satisfied: huggingface-hub in /Users/rodolfo.lobo/opt/anaconda3/lib/python3.8/site-packages (from flair) (0.1.2)\n",
      "Requirement already satisfied: matplotlib>=2.2.3 in /Users/rodolfo.lobo/opt/anaconda3/lib/python3.8/site-packages (from flair) (3.3.4)\n",
      "Collecting sqlitedict>=1.6.0\n",
      "  Downloading sqlitedict-1.7.0.tar.gz (28 kB)\n",
      "Requirement already satisfied: lxml in /Users/rodolfo.lobo/opt/anaconda3/lib/python3.8/site-packages (from flair) (4.6.3)\n",
      "Requirement already satisfied: regex in /Users/rodolfo.lobo/opt/anaconda3/lib/python3.8/site-packages (from flair) (2021.4.4)\n",
      "Requirement already satisfied: scikit-learn>=0.21.3 in /Users/rodolfo.lobo/opt/anaconda3/lib/python3.8/site-packages (from flair) (0.24.1)\n",
      "Collecting tabulate\n",
      "  Using cached tabulate-0.8.9-py3-none-any.whl (25 kB)\n",
      "Collecting gensim>=3.4.0\n",
      "  Downloading gensim-4.1.2-cp38-cp38-macosx_10_9_x86_64.whl (24.0 MB)\n",
      "\u001b[K     |████████████████████████████████| 24.0 MB 34.4 MB/s eta 0:00:01\n",
      "\u001b[?25hCollecting janome\n",
      "  Downloading Janome-0.4.1-py2.py3-none-any.whl (19.7 MB)\n",
      "\u001b[K     |████████████████████████████████| 19.7 MB 34.5 MB/s eta 0:00:01\n",
      "\u001b[?25hCollecting ftfy\n",
      "  Downloading ftfy-6.0.3.tar.gz (64 kB)\n",
      "\u001b[K     |████████████████████████████████| 64 kB 832 kB/s  eta 0:00:01\n",
      "\u001b[?25hCollecting deprecated>=1.2.4\n",
      "  Downloading Deprecated-1.2.13-py2.py3-none-any.whl (9.6 kB)\n",
      "Requirement already satisfied: transformers>=4.0.0 in /Users/rodolfo.lobo/opt/anaconda3/lib/python3.8/site-packages (from flair) (4.12.5)\n",
      "Requirement already satisfied: python-dateutil>=2.6.1 in /Users/rodolfo.lobo/opt/anaconda3/lib/python3.8/site-packages (from flair) (2.8.1)\n",
      "Requirement already satisfied: torch!=1.8,>=1.5.0 in /Users/rodolfo.lobo/opt/anaconda3/lib/python3.8/site-packages (from flair) (1.10.0)\n",
      "Collecting segtok>=1.5.7\n",
      "  Downloading segtok-1.5.10.tar.gz (25 kB)\n",
      "Collecting conllu>=4.0\n",
      "  Downloading conllu-4.4.1-py2.py3-none-any.whl (15 kB)\n",
      "Collecting langdetect\n",
      "  Downloading langdetect-1.0.9.tar.gz (981 kB)\n",
      "\u001b[K     |████████████████████████████████| 981 kB 20.1 MB/s eta 0:00:01\n",
      "\u001b[?25hCollecting gdown==3.12.2\n",
      "  Downloading gdown-3.12.2.tar.gz (8.2 kB)\n",
      "  Installing build dependencies ... \u001b[?25ldone\n",
      "\u001b[?25h  Getting requirements to build wheel ... \u001b[?25ldone\n",
      "\u001b[?25h    Preparing wheel metadata ... \u001b[?25ldone\n",
      "\u001b[?25hCollecting wikipedia-api\n",
      "  Downloading Wikipedia-API-0.5.4.tar.gz (18 kB)\n",
      "Collecting bpemb>=0.3.2\n",
      "  Downloading bpemb-0.3.3-py3-none-any.whl (19 kB)\n",
      "Requirement already satisfied: six in /Users/rodolfo.lobo/opt/anaconda3/lib/python3.8/site-packages (from gdown==3.12.2->flair) (1.15.0)\n",
      "Requirement already satisfied: filelock in /Users/rodolfo.lobo/opt/anaconda3/lib/python3.8/site-packages (from gdown==3.12.2->flair) (3.0.12)\n",
      "Requirement already satisfied: requests[socks] in /Users/rodolfo.lobo/opt/anaconda3/lib/python3.8/site-packages (from gdown==3.12.2->flair) (2.25.1)\n",
      "Requirement already satisfied: numpy in /Users/rodolfo.lobo/opt/anaconda3/lib/python3.8/site-packages (from bpemb>=0.3.2->flair) (1.19.5)\n",
      "Requirement already satisfied: wrapt<2,>=1.10 in /Users/rodolfo.lobo/opt/anaconda3/lib/python3.8/site-packages (from deprecated>=1.2.4->flair) (1.12.1)\n",
      "Collecting smart-open>=1.8.1\n",
      "  Downloading smart_open-5.2.1-py3-none-any.whl (58 kB)\n",
      "\u001b[K     |████████████████████████████████| 58 kB 2.4 MB/s eta 0:00:01\n",
      "\u001b[?25hRequirement already satisfied: scipy>=0.18.1 in /Users/rodolfo.lobo/opt/anaconda3/lib/python3.8/site-packages (from gensim>=3.4.0->flair) (1.6.2)\n",
      "Collecting overrides<4.0.0,>=3.0.0\n",
      "  Downloading overrides-3.1.0.tar.gz (11 kB)\n",
      "Requirement already satisfied: importlib-metadata<4.0.0,>=3.7.0 in /Users/rodolfo.lobo/opt/anaconda3/lib/python3.8/site-packages (from konoha<5.0.0,>=4.0.0->flair) (3.10.0)\n",
      "Requirement already satisfied: zipp>=0.5 in /Users/rodolfo.lobo/opt/anaconda3/lib/python3.8/site-packages (from importlib-metadata<4.0.0,>=3.7.0->konoha<5.0.0,>=4.0.0->flair) (3.4.1)\n",
      "Requirement already satisfied: cycler>=0.10 in /Users/rodolfo.lobo/opt/anaconda3/lib/python3.8/site-packages (from matplotlib>=2.2.3->flair) (0.10.0)\n",
      "Requirement already satisfied: kiwisolver>=1.0.1 in /Users/rodolfo.lobo/opt/anaconda3/lib/python3.8/site-packages (from matplotlib>=2.2.3->flair) (1.3.1)\n",
      "Requirement already satisfied: pyparsing!=2.0.4,!=2.1.2,!=2.1.6,>=2.0.3 in /Users/rodolfo.lobo/opt/anaconda3/lib/python3.8/site-packages (from matplotlib>=2.2.3->flair) (2.4.7)\n",
      "Requirement already satisfied: pillow>=6.2.0 in /Users/rodolfo.lobo/opt/anaconda3/lib/python3.8/site-packages (from matplotlib>=2.2.3->flair) (8.2.0)\n",
      "Requirement already satisfied: chardet<5,>=3.0.2 in /Users/rodolfo.lobo/opt/anaconda3/lib/python3.8/site-packages (from requests[socks]->gdown==3.12.2->flair) (4.0.0)\n",
      "Requirement already satisfied: idna<3,>=2.5 in /Users/rodolfo.lobo/opt/anaconda3/lib/python3.8/site-packages (from requests[socks]->gdown==3.12.2->flair) (2.10)\n",
      "Requirement already satisfied: urllib3<1.27,>=1.21.1 in /Users/rodolfo.lobo/opt/anaconda3/lib/python3.8/site-packages (from requests[socks]->gdown==3.12.2->flair) (1.26.4)\n",
      "Requirement already satisfied: certifi>=2017.4.17 in /Users/rodolfo.lobo/opt/anaconda3/lib/python3.8/site-packages (from requests[socks]->gdown==3.12.2->flair) (2020.12.5)\n",
      "Requirement already satisfied: joblib>=0.11 in /Users/rodolfo.lobo/opt/anaconda3/lib/python3.8/site-packages (from scikit-learn>=0.21.3->flair) (1.0.1)\n",
      "Requirement already satisfied: threadpoolctl>=2.0.0 in /Users/rodolfo.lobo/opt/anaconda3/lib/python3.8/site-packages (from scikit-learn>=0.21.3->flair) (2.1.0)\n",
      "Requirement already satisfied: typing-extensions in /Users/rodolfo.lobo/opt/anaconda3/lib/python3.8/site-packages (from torch!=1.8,>=1.5.0->flair) (3.7.4.3)\n",
      "Requirement already satisfied: sacremoses in /Users/rodolfo.lobo/opt/anaconda3/lib/python3.8/site-packages (from transformers>=4.0.0->flair) (0.0.46)\n",
      "Requirement already satisfied: pyyaml>=5.1 in /Users/rodolfo.lobo/opt/anaconda3/lib/python3.8/site-packages (from transformers>=4.0.0->flair) (5.4.1)\n",
      "Requirement already satisfied: packaging>=20.0 in /Users/rodolfo.lobo/opt/anaconda3/lib/python3.8/site-packages (from transformers>=4.0.0->flair) (20.9)\n",
      "Requirement already satisfied: tokenizers<0.11,>=0.10.1 in /Users/rodolfo.lobo/opt/anaconda3/lib/python3.8/site-packages (from transformers>=4.0.0->flair) (0.10.3)\n",
      "Requirement already satisfied: wcwidth in /Users/rodolfo.lobo/opt/anaconda3/lib/python3.8/site-packages (from ftfy->flair) (0.2.5)\n",
      "Requirement already satisfied: PySocks!=1.5.7,>=1.5.6 in /Users/rodolfo.lobo/opt/anaconda3/lib/python3.8/site-packages (from requests[socks]->gdown==3.12.2->flair) (1.7.1)\n",
      "Requirement already satisfied: click in /Users/rodolfo.lobo/opt/anaconda3/lib/python3.8/site-packages (from sacremoses->transformers>=4.0.0->flair) (7.1.2)\n",
      "Building wheels for collected packages: gdown, mpld3, overrides, segtok, sqlitedict, ftfy, langdetect, wikipedia-api\n",
      "  Building wheel for gdown (PEP 517) ... \u001b[?25ldone\n",
      "\u001b[?25h  Created wheel for gdown: filename=gdown-3.12.2-py3-none-any.whl size=9692 sha256=5703fa14e19083759a82f96fa3e975ac1ae08bc65d9fbdf0acd333b8339a5265\n",
      "  Stored in directory: /Users/rodolfo.lobo/Library/Caches/pip/wheels/e2/62/1e/926d1ebe7b1e733c78d627fd288d01b83feaf67efc06e0e4c3\n",
      "  Building wheel for mpld3 (setup.py) ... \u001b[?25ldone\n",
      "\u001b[?25h  Created wheel for mpld3: filename=mpld3-0.3-py3-none-any.whl size=116678 sha256=f6416455de2c4d559502343f2715fe3f4db2eccd50b1f135424f57f2f5409f57\n",
      "  Stored in directory: /Users/rodolfo.lobo/Library/Caches/pip/wheels/3d/9f/9d/d806a20bd97bc7076d724fa3e69fa5be61836ba16b2ffa6126\n",
      "  Building wheel for overrides (setup.py) ... \u001b[?25ldone\n",
      "\u001b[?25h  Created wheel for overrides: filename=overrides-3.1.0-py3-none-any.whl size=10175 sha256=4f3f807ebb68b9e08dcc95aec23091b8111d1ba113a8720a3e63dba85448df07\n",
      "  Stored in directory: /Users/rodolfo.lobo/Library/Caches/pip/wheels/6a/4f/72/28857f75625b263e2e3f5ab2fc4416c0a85960ac6485007eaa\n",
      "  Building wheel for segtok (setup.py) ... \u001b[?25ldone\n",
      "\u001b[?25h  Created wheel for segtok: filename=segtok-1.5.10-py3-none-any.whl size=25018 sha256=ef4eb71e07ee32cc4ab23f5f8e017f561b502a71f0657619a8f110908d6375bc\n",
      "  Stored in directory: /Users/rodolfo.lobo/Library/Caches/pip/wheels/36/6d/90/6d9b11ba404f68f340ef3f6060cfdf9c9f34653b08eceeacf6\n",
      "  Building wheel for sqlitedict (setup.py) ... \u001b[?25ldone\n",
      "\u001b[?25h  Created wheel for sqlitedict: filename=sqlitedict-1.7.0-py3-none-any.whl size=14376 sha256=a93601b4a5fa38f737dfc49bbf196504024fcd8d771ea7bf8b22ab5990a55c24\n",
      "  Stored in directory: /Users/rodolfo.lobo/Library/Caches/pip/wheels/92/82/8c/54ef8d8770fd1a80938197e55d3ccd26eccd117f44c58f601b\n",
      "  Building wheel for ftfy (setup.py) ... \u001b[?25ldone\n",
      "\u001b[?25h  Created wheel for ftfy: filename=ftfy-6.0.3-py3-none-any.whl size=41913 sha256=94d06ff0a8931130c6fa2035cc832d303557d263c55bbb7dd15228f3b73962d1\n",
      "  Stored in directory: /Users/rodolfo.lobo/Library/Caches/pip/wheels/7f/40/63/4bf603cec3ecc4a26985405834cb47eb8368bfa59e15dde046\n",
      "  Building wheel for langdetect (setup.py) ... \u001b[?25ldone\n",
      "\u001b[?25h  Created wheel for langdetect: filename=langdetect-1.0.9-py3-none-any.whl size=993221 sha256=858f0ce86eb7d1fe57e7f34cf2ae7fa2f04f6b62accc7ccaa3fe92ae6cb1839c\n",
      "  Stored in directory: /Users/rodolfo.lobo/Library/Caches/pip/wheels/13/c7/b0/79f66658626032e78fc1a83103690ef6797d551cb22e56e734\n",
      "  Building wheel for wikipedia-api (setup.py) ... \u001b[?25ldone\n",
      "\u001b[?25h  Created wheel for wikipedia-api: filename=Wikipedia_API-0.5.4-py3-none-any.whl size=13462 sha256=8ff23c11a599448f65812c8e7a5e898b2bd7def0ce86c902a43ebf5d5e1194b4\n",
      "  Stored in directory: /Users/rodolfo.lobo/Library/Caches/pip/wheels/ed/88/e3/da3d4d73cb91d659488cfa25913b84bbc26febec99d257bce9\n",
      "Successfully built gdown mpld3 overrides segtok sqlitedict ftfy langdetect wikipedia-api\n",
      "Installing collected packages: smart-open, sentencepiece, overrides, gensim, wikipedia-api, tabulate, sqlitedict, segtok, mpld3, more-itertools, langdetect, konoha, janome, gdown, ftfy, deprecated, conllu, bpemb, flair\n",
      "  Attempting uninstall: more-itertools\n",
      "    Found existing installation: more-itertools 8.7.0\n",
      "    Uninstalling more-itertools-8.7.0:\n",
      "      Successfully uninstalled more-itertools-8.7.0\n",
      "Successfully installed bpemb-0.3.3 conllu-4.4.1 deprecated-1.2.13 flair-0.10 ftfy-6.0.3 gdown-3.12.2 gensim-4.1.2 janome-0.4.1 konoha-4.6.5 langdetect-1.0.9 more-itertools-8.8.0 mpld3-0.3 overrides-3.1.0 segtok-1.5.10 sentencepiece-0.1.95 smart-open-5.2.1 sqlitedict-1.7.0 tabulate-0.8.9 wikipedia-api-0.5.4\n"
     ]
    }
   ],
   "source": [
    "!pip install flair"
   ]
  },
  {
   "cell_type": "code",
   "execution_count": null,
   "id": "74b5aa09-c316-491a-a4ba-673e997ab1f8",
   "metadata": {},
   "outputs": [],
   "source": [
    "from termcolor import colored\n",
    "from flair.data import Sentence\n",
    "from flair.models import SequenceTagger"
   ]
  },
  {
   "cell_type": "code",
   "execution_count": 2,
   "id": "ba356d80-8c18-4b8c-9ecf-c54cb67ce5b3",
   "metadata": {},
   "outputs": [
    {
     "data": {
      "application/vnd.jupyter.widget-view+json": {
       "model_id": "cb0e34d57b8d4c6f8e169ef16ebef142",
       "version_major": 2,
       "version_minor": 0
      },
      "text/plain": [
       "Downloading:   0%|          | 0.00/2.24G [00:00<?, ?B/s]"
      ]
     },
     "metadata": {},
     "output_type": "display_data"
    },
    {
     "name": "stdout",
     "output_type": "stream",
     "text": [
      "2021-12-07 09:51:23,993 loading file /Users/rodolfo.lobo/.flair/models/ner-spanish-large/045ad6c7dc21e0eb85935dce0544eec65f8c63c58412154df4dee7ff5f11665b.d4d3456316d2951bc100d060bd63a690b33af6d273adffa1b90df32328ed3257\n"
     ]
    },
    {
     "data": {
      "application/vnd.jupyter.widget-view+json": {
       "model_id": "d37589bba6914842b56fd43779c02459",
       "version_major": 2,
       "version_minor": 0
      },
      "text/plain": [
       "Downloading:   0%|          | 0.00/4.83M [00:00<?, ?B/s]"
      ]
     },
     "metadata": {},
     "output_type": "display_data"
    },
    {
     "data": {
      "application/vnd.jupyter.widget-view+json": {
       "model_id": "2bdafaa48d854741abf9e58645d93306",
       "version_major": 2,
       "version_minor": 0
      },
      "text/plain": [
       "Downloading:   0%|          | 0.00/8.68M [00:00<?, ?B/s]"
      ]
     },
     "metadata": {},
     "output_type": "display_data"
    },
    {
     "data": {
      "application/vnd.jupyter.widget-view+json": {
       "model_id": "8c935b23e0b74c87a7b0a52e29b868ec",
       "version_major": 2,
       "version_minor": 0
      },
      "text/plain": [
       "Downloading:   0%|          | 0.00/513 [00:00<?, ?B/s]"
      ]
     },
     "metadata": {},
     "output_type": "display_data"
    },
    {
     "name": "stdout",
     "output_type": "stream",
     "text": [
      "Sentence: \"George Washington fue a Washington\"   [− Tokens: 5  − Token-Labels: \"George <B-PER> Washington <E-PER> fue a Washington <S-ORG>\"]\n",
      "The following NER tags are found:\n",
      "Span [1,2]: \"George Washington\"   [− Labels: PER (0.9999)]\n",
      "Span [5]: \"Washington\"   [− Labels: ORG (0.9997)]\n"
     ]
    }
   ],
   "source": [
    "# load tagger\n",
    "tagger = SequenceTagger.load(\"flair/ner-spanish-large\")"
   ]
  },
  {
   "cell_type": "code",
   "execution_count": 5,
   "id": "80a81661-43c7-4da1-bdb1-c23d181237dc",
   "metadata": {},
   "outputs": [
    {
     "name": "stdout",
     "output_type": "stream",
     "text": [
      "Sentence: \"George Washington fue a Washington\"   [− Tokens: 5  − Token-Labels: \"George <B-PER> Washington <E-PER> fue a Washington <S-ORG>\"]\n",
      "The following NER tags are found:\n",
      "Span [1,2]: \"George Washington\"   [− Labels: PER (0.9999)]\n",
      "Span [5]: \"Washington\"   [− Labels: ORG (0.9997)]\n"
     ]
    }
   ],
   "source": [
    "# make example sentence\n",
    "text = \"George Washington fue a Washington\"\n",
    "sentence = Sentence(\"George Washington fue a Washington\")\n",
    "\n",
    "# predict NER tags\n",
    "tagger.predict(sentence)\n",
    "\n",
    "# print sentence\n",
    "print(sentence)\n",
    "\n",
    "# print predicted NER spans\n",
    "print('The following NER tags are found:')\n",
    "# iterate over entities and print\n",
    "for entity in sentence.get_spans('ner'):\n",
    "    print(entity)"
   ]
  },
  {
   "cell_type": "code",
   "execution_count": 10,
   "id": "99e8be84-abc1-4346-a26f-5f2a4436a5cc",
   "metadata": {},
   "outputs": [
    {
     "data": {
      "text/plain": [
       "1"
      ]
     },
     "execution_count": 10,
     "metadata": {},
     "output_type": "execute_result"
    }
   ],
   "source": [
    "len(entity)"
   ]
  },
  {
   "cell_type": "code",
   "execution_count": 6,
   "id": "262c1b76-1022-427c-bf38-80e1709c35c2",
   "metadata": {},
   "outputs": [
    {
     "name": "stdout",
     "output_type": "stream",
     "text": [
      "george washington fue a washington\n"
     ]
    }
   ],
   "source": [
    "l1=['foot','feet']\n",
    "result = \" \".join(colored(t,'white','on_red') if t in l1 else t for t in text.lower().split())\n",
    "print(result)"
   ]
  },
  {
   "cell_type": "code",
   "execution_count": null,
   "id": "b67e762b-2520-4ba0-b2be-28c82a676d7e",
   "metadata": {},
   "outputs": [],
   "source": []
  }
 ],
 "metadata": {
  "kernelspec": {
   "display_name": "Python 3",
   "language": "python",
   "name": "python3"
  },
  "language_info": {
   "codemirror_mode": {
    "name": "ipython",
    "version": 3
   },
   "file_extension": ".py",
   "mimetype": "text/x-python",
   "name": "python",
   "nbconvert_exporter": "python",
   "pygments_lexer": "ipython3",
   "version": "3.8.8"
  }
 },
 "nbformat": 4,
 "nbformat_minor": 5
}
